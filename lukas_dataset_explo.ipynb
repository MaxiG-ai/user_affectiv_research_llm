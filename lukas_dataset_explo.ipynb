{
 "cells": [
  {
   "cell_type": "code",
   "execution_count": 3,
   "metadata": {},
   "outputs": [],
   "source": [
    "import pandas as pd\n",
    "import numpy as np\n",
    "import matplotlib.pyplot as plt\n",
    "import seaborn as sns\n",
    "from summarytools import dfSummary"
   ]
  },
  {
   "cell_type": "code",
   "execution_count": 4,
   "metadata": {},
   "outputs": [],
   "source": [
    "click_data = pd.read_csv('dataset/click_data.csv')\n",
    "emotional_events = pd.read_csv('dataset/emotional_events.csv')\n",
    "messages_data = pd.read_csv('dataset/messages_data.csv')\n",
    "# task_types = pd.read_csv('dataset/task_types.csv')\n",
    "user_information = pd.read_csv('dataset/user_information.csv')"
   ]
  },
  {
   "cell_type": "code",
   "execution_count": 32,
   "metadata": {},
   "outputs": [],
   "source": [
    "# Preprocessing Data Types\n",
    "emotional_events['valence'] = emotional_events['valence'].replace('AO07', '7').astype(float)\n",
    "emotional_events['arousal'] = emotional_events['arousal'].replace('AO07', '7').astype(float)\n",
    "emotional_events['input'] = emotional_events['input'].astype(str)\n",
    "\n",
    "messages_data['timestamp'] = pd.to_datetime(messages_data['timestamp'])\n",
    "messages_data['task'] = messages_data['task'].astype(int)"
   ]
  },
  {
   "cell_type": "markdown",
   "metadata": {},
   "source": [
    "# Create Emotion Quartiles"
   ]
  },
  {
   "cell_type": "code",
   "execution_count": 33,
   "metadata": {},
   "outputs": [
    {
     "data": {
      "text/plain": [
       "array([ 6., nan,  5.,  3.,  2.,  4.,  7.,  1.])"
      ]
     },
     "execution_count": 33,
     "metadata": {},
     "output_type": "execute_result"
    }
   ],
   "source": [
    "emotional_events['arousal'].unique()"
   ]
  },
  {
   "cell_type": "code",
   "execution_count": 34,
   "metadata": {},
   "outputs": [
    {
     "data": {
      "text/plain": [
       "array([ 5., nan,  1.,  3.,  2.,  6.,  7.,  4.])"
      ]
     },
     "execution_count": 34,
     "metadata": {},
     "output_type": "execute_result"
    }
   ],
   "source": [
    "emotional_events['valence'].unique()"
   ]
  },
  {
   "cell_type": "code",
   "execution_count": 35,
   "metadata": {},
   "outputs": [],
   "source": [
    "emotional_events['valence_high'] = np.where(emotional_events['valence'] > 3, 1, np.where(emotional_events['valence'] < 3, 0, np.nan))\n",
    "emotional_events['arousal_high'] = np.where(emotional_events['arousal'] > 3, 1, np.where(emotional_events['arousal'] < 3, 0, np.nan))"
   ]
  },
  {
   "cell_type": "markdown",
   "metadata": {},
   "source": [
    "x: valence\n",
    "y: arousal\n",
    "\n",
    "|2|4|\n",
    "|---|---|\n",
    "|1|3|"
   ]
  },
  {
   "cell_type": "code",
   "execution_count": 36,
   "metadata": {},
   "outputs": [],
   "source": [
    "def get_emotion_score(df):\n",
    "    if df['valence_high'] == 1 and df['arousal_high'] == 1:\n",
    "        return 4\n",
    "    elif df['valence_high'] == 1 and df['arousal_high'] == 0:\n",
    "        return 3\n",
    "    elif df['valence_high'] == 0 and df['arousal_high'] == 1:\n",
    "        return 2\n",
    "    elif df['valence_high'] == 0 and df['arousal_high'] == 0:\n",
    "        return 1\n",
    "    else:\n",
    "        return np.nan\n",
    "    \n",
    "emotional_events['emotion_quartile'] = emotional_events.apply(get_emotion_score, axis=1)"
   ]
  },
  {
   "cell_type": "code",
   "execution_count": 48,
   "metadata": {},
   "outputs": [
    {
     "name": "stdout",
     "output_type": "stream",
     "text": [
      "     userId  task  message_type                  timestamp  \\\n",
      "77      124     1         human 2024-06-25 07:40:50.601804   \n",
      "78      124     1  agent_finish 2024-06-25 07:41:06.333214   \n",
      "116     124     2         human 2024-06-25 07:43:44.717792   \n",
      "79      124     3         human 2024-06-25 07:41:41.133980   \n",
      "80      124     3  agent_finish 2024-06-25 07:41:56.499362   \n",
      "81      124     3         human 2024-06-25 07:42:54.456336   \n",
      "82      124     3  agent_finish 2024-06-25 07:43:02.718107   \n",
      "117     124     4         human 2024-06-25 07:45:29.950810   \n",
      "118     124     4  agent_finish 2024-06-25 07:45:43.571634   \n",
      "119     124     4         human 2024-06-25 07:46:37.272274   \n",
      "\n",
      "                                                 input  timestamp_unix  \n",
      "77   {\"input\": \"Nennen Sie alle Bezirke in einer du...      1719301250  \n",
      "78   {\"output\": \"Unterwiehre-S\\u00fcd, Herdern-Nord...      1719301266  \n",
      "116  {\"input\": \"Nennen Sie die Einwohnerzahlen die ...      1719301424  \n",
      "79   {\"input\": \"Nennen sie den Stadtbezirk mit den ...      1719301301  \n",
      "80   {\"output\": \"Der Stadtbezirk mit den meisten Ei...      1719301316  \n",
      "81   {\"input\": \"Wie viele Einwohner leben in diesem...      1719301374  \n",
      "82   {\"output\": \"In Alt-St\\u00fchlinger leben insge...      1719301382  \n",
      "117  {\"input\": \"Nennen Sie die Anzahl der Kitapl\\u0...      1719301529  \n",
      "118  {\"output\": \"Die Gesamtzahl der Kitapl\\u00e4tze...      1719301543  \n",
      "119                         {\"input\": \"Unter 6 Jahre\"}      1719301597  \n",
      "    id  userId            task_type  task    input_type  \\\n",
      "1  NaN     124  information_finding     1        prompt   \n",
      "0  NaN     124  information_finding     1  final_output   \n",
      "12 NaN     124        text_creation     1        prompt   \n",
      "13 NaN     124        text_creation     1    llm_answer   \n",
      "14 NaN     124        text_creation     1  final_output   \n",
      "3  NaN     124  information_finding     2        prompt   \n",
      "2  NaN     124  information_finding     2  final_output   \n",
      "15 NaN     124        text_creation     2        prompt   \n",
      "16 NaN     124        text_creation     2    llm_answer   \n",
      "17 NaN     124        text_creation     2  final_output   \n",
      "\n",
      "                                                input  input_assessment  \\\n",
      "1   Nennen Sie alle Bezirke in einer durch Kommata...               NaN   \n",
      "0   Unterwiehre-Süd, Herdern-Nord, Oberwiehre, Wal...               NaN   \n",
      "12  Verfasse für mich einen Prompt für folgende Au...               NaN   \n",
      "13  Prompt:\\n\\nDu bist ein Bürger der Stadt Freibu...               NaN   \n",
      "14  Sehr geehrter Herr Müller,\\n\\nich hoffe, es ge...               NaN   \n",
      "3   Nennen Sie die Einwohnerzahlen die sich aus de...               NaN   \n",
      "2                                     Dauert zu lange               NaN   \n",
      "15  Was wäre für dich der beste Prompt für folgend...               NaN   \n",
      "16  Schreibe eine detaillierte Restaurantbewertung...               NaN   \n",
      "17  Kürzlich habe ich ein italienisches Restaurant...               NaN   \n",
      "\n",
      "    confidence  understanding  valence  arousal    task_start      task_end  \\\n",
      "1          NaN            NaN      NaN      NaN           NaN  1.719301e+09   \n",
      "0          6.0            7.0      5.0      6.0  1.719301e+12  1.719301e+12   \n",
      "12         NaN            NaN      3.0      4.0           NaN           NaN   \n",
      "13         NaN            NaN      2.0      2.0           NaN           NaN   \n",
      "14         NaN            NaN      5.0      4.0           NaN           NaN   \n",
      "3          NaN            NaN      NaN      NaN           NaN  1.719301e+09   \n",
      "2          1.0            1.0      1.0      5.0  1.719301e+12  1.719302e+12   \n",
      "15         NaN            NaN      5.0      4.0           NaN           NaN   \n",
      "16         NaN            NaN      5.0      5.0           NaN           NaN   \n",
      "17         NaN            NaN      5.0      3.0           NaN           NaN   \n",
      "\n",
      "    task_time  valence_high  arousal_high  emotion_quartile  \n",
      "1         NaN           NaN           NaN               NaN  \n",
      "0       56.03           1.0           1.0               4.0  \n",
      "12     141.27           NaN           1.0               NaN  \n",
      "13      25.89           0.0           0.0               1.0  \n",
      "14     121.87           1.0           1.0               4.0  \n",
      "3         NaN           NaN           NaN               NaN  \n",
      "2      103.50           0.0           1.0               2.0  \n",
      "15      97.50           1.0           1.0               4.0  \n",
      "16      39.49           1.0           1.0               4.0  \n",
      "17      64.97           1.0           NaN               NaN  \n"
     ]
    }
   ],
   "source": [
    "# input length\n",
    "\n",
    "sorted_messages = messages_data.sort_values(by=['userId', 'task', 'timestamp'])\n",
    "sorted_emotions = emotional_events.sort_values(by=['userId', 'task', 'task_end'])\n",
    "print(sorted_messages.head(10))\n",
    "print(sorted_emotions.head(10))\n",
    "\n",
    "# task_end\n",
    "\n",
    "\n",
    "\n",
    "# only user msgs\n",
    "# df = emotional_events[(emotional_events['input_type'] == 'prompt') & (emotional_events['task_type'] == 'information_finding')]\n",
    "\n",
    "# prompt_emotion_quartile = pd.DataFrame({\n",
    "#     'userId': df['userId'],\n",
    "#     'task_type': df['task_type'],\n",
    "#     'task': df['task'],\n",
    "#     'input': df['input'],\n",
    "#     'input_length': df['input'].apply(len),\n",
    "# })\n",
    "\n",
    "# # only agent msgs\n",
    "# df = emotional_events[(emotional_events['input_type'] == 'final_answer') | (emotional_events['task_type'] == 'information_finding')]\n",
    "# print(prompt_emotion_quartile.head(5))\n",
    "\n",
    "\n",
    "#prompt_valence_arousal['emotion_score'] = \n",
    "\n",
    "# correlation = prompt_and_valence['input_length'].corr(prompt_and_valence['valence'])\n",
    "# print('Correlation between input length and valence: ', correlation)\n",
    "\n",
    "# print(prompt_and_valence[[\"input_length\", \"valence\"]].head(20))\n",
    "\n",
    "# plt.figure(figsize=(8, 6))\n",
    "# plt.scatter(prompt_and_valence['input_length'], prompt_and_valence['valence'], alpha=0.5)\n",
    "# plt.title('Scatterplot von Input Length und Valence')\n",
    "# plt.xlabel('Input Length')\n",
    "# plt.ylabel('Valence')\n",
    "# plt.grid(True)\n",
    "# plt.show()\n",
    "\n",
    "# # prompt length, valence correlation for input length > 200\n",
    "# prompt_and_valence_200 = prompt_and_valence[prompt_and_valence[\"input_length\"] > 200]\n",
    "\n",
    "# correlation_200 = prompt_and_valence_200['input_length'].corr(prompt_and_valence_200['valence'])\n",
    "# print('Correlation between input length and valence for input length > 200: ', correlation_200)\n",
    "\n",
    "# plt.figure(figsize=(8, 6))\n",
    "# plt.scatter(prompt_and_valence_200['input_length'], prompt_and_valence_200['valence'], alpha=0.5)\n",
    "# plt.title('Scatterplot von Input Length und Valence')\n",
    "# plt.xlabel('Input Length')\n",
    "# plt.ylabel('Valence')\n",
    "# plt.grid(True)\n",
    "# plt.show()\n",
    "\n",
    "\n",
    "# # prompt length, valence correlation for input length > 300\n",
    "# prompt_and_valence_300 = prompt_and_valence[prompt_and_valence[\"input_length\"] > 300]\n",
    "\n",
    "# correlation_300 = prompt_and_valence_300['input_length'].corr(prompt_and_valence_300['valence'])\n",
    "# print('Correlation between input length and valence for input length > 200: ', correlation_300)\n",
    "\n",
    "# plt.figure(figsize=(8, 6))\n",
    "# plt.scatter(prompt_and_valence_300['input_length'], prompt_and_valence_300['valence'], alpha=0.5)\n",
    "# plt.title('Scatterplot von Input Length und Valence')\n",
    "# plt.xlabel('Input Length')\n",
    "# plt.ylabel('Valence')\n",
    "# plt.grid(True)\n",
    "# plt.show()"
   ]
  }
 ],
 "metadata": {
  "kernelspec": {
   "display_name": "affective_user_research",
   "language": "python",
   "name": "python3"
  },
  "language_info": {
   "codemirror_mode": {
    "name": "ipython",
    "version": 3
   },
   "file_extension": ".py",
   "mimetype": "text/x-python",
   "name": "python",
   "nbconvert_exporter": "python",
   "pygments_lexer": "ipython3",
   "version": "3.12.0"
  }
 },
 "nbformat": 4,
 "nbformat_minor": 2
}
