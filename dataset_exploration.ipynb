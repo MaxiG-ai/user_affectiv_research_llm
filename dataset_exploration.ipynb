{
 "cells": [
  {
   "cell_type": "code",
   "execution_count": 1,
   "metadata": {},
   "outputs": [],
   "source": [
    "import pandas as pd\n",
    "import numpy as np\n",
    "import matplotlib.pyplot as plt\n",
    "import seaborn as sns\n",
    "from summarytools import dfSummary"
   ]
  },
  {
   "cell_type": "code",
   "execution_count": 2,
   "metadata": {},
   "outputs": [],
   "source": [
    "click_data = pd.read_csv('dataset/click_data.csv')\n",
    "emotional_events = pd.read_csv('dataset/emotional_events.csv')\n",
    "messages_data = pd.read_csv('dataset/messages_data.csv')\n",
    "# task_types = pd.read_csv('dataset/task_types.csv')\n",
    "user_information = pd.read_csv('dataset/user_information.csv')"
   ]
  },
  {
   "cell_type": "code",
   "execution_count": 7,
   "metadata": {},
   "outputs": [],
   "source": [
    "# Preprocessing Data Types\n",
    "emotional_events['valence'] = emotional_events['valence'].replace('AO07', '7').astype(float)\n",
    "emotional_events['arousal'] = emotional_events['arousal'].replace('AO07', '7').astype(float)"
   ]
  },
  {
   "cell_type": "markdown",
   "metadata": {},
   "source": [
    "# Create Emotion Quartiles"
   ]
  },
  {
   "cell_type": "code",
   "execution_count": 11,
   "metadata": {},
   "outputs": [
    {
     "data": {
      "text/plain": [
       "array([ 6., nan,  5.,  3.,  2.,  4.,  7.,  1.])"
      ]
     },
     "execution_count": 11,
     "metadata": {},
     "output_type": "execute_result"
    }
   ],
   "source": [
    "emotional_events['arousal'].unique()"
   ]
  },
  {
   "cell_type": "code",
   "execution_count": 12,
   "metadata": {},
   "outputs": [
    {
     "data": {
      "text/plain": [
       "array([ 5., nan,  1.,  3.,  2.,  6.,  7.,  4.])"
      ]
     },
     "execution_count": 12,
     "metadata": {},
     "output_type": "execute_result"
    }
   ],
   "source": [
    "emotional_events['valence'].unique()"
   ]
  },
  {
   "cell_type": "code",
   "execution_count": 13,
   "metadata": {},
   "outputs": [],
   "source": [
    "emotional_events['valence_high'] = np.where(emotional_events['valence'] > 3, 1, 0)\n",
    "emotional_events['arousal_high'] = np.where(emotional_events['arousal'] > 3, 1, 0)"
   ]
  },
  {
   "cell_type": "markdown",
   "metadata": {},
   "source": [
    "x: valence\n",
    "y: arousal\n",
    "\n",
    "|2|4|\n",
    "|---|---|\n",
    "|1|3|"
   ]
  },
  {
   "cell_type": "code",
   "execution_count": 15,
   "metadata": {},
   "outputs": [],
   "source": [
    "def get_emotion_score(df):\n",
    "    if df['valence_high'] == 1 and df['arousal_high'] == 1:\n",
    "        return 4\n",
    "    elif df['valence_high'] == 1 and df['arousal_high'] == 0:\n",
    "        return 3\n",
    "    elif df['valence_high'] == 0 and df['arousal_high'] == 1:\n",
    "        return 2\n",
    "    elif df['valence_high'] == 0 and df['arousal_high'] == 0:\n",
    "        return 1\n",
    "    else:\n",
    "        return np.nan\n",
    "    \n",
    "emotional_events['emotion_quartile'] = emotional_events.apply(get_emotion_score, axis=1)"
   ]
  },
  {
   "cell_type": "code",
   "execution_count": 16,
   "metadata": {},
   "outputs": [
    {
     "data": {
      "text/plain": [
       "emotion_quartile\n",
       "4    620\n",
       "1    570\n",
       "2    273\n",
       "3    178\n",
       "Name: count, dtype: int64"
      ]
     },
     "execution_count": 16,
     "metadata": {},
     "output_type": "execute_result"
    }
   ],
   "source": [
    "emotional_events.emotion_quartile.value_counts()"
   ]
  },
  {
   "cell_type": "code",
   "execution_count": null,
   "metadata": {},
   "outputs": [],
   "source": [
    "cols_for_histplot = user_information.columns[4:]"
   ]
  },
  {
   "cell_type": "code",
   "execution_count": null,
   "metadata": {},
   "outputs": [],
   "source": [
    "for col in cols_for_histplot:\n",
    "    \n",
    "    sns.histplot(user_information[col])\n",
    "    plt.title(col)\n",
    "    plt.savefig(f'{col}_histplot.png')\n",
    "    plt.show()"
   ]
  },
  {
   "cell_type": "code",
   "execution_count": null,
   "metadata": {},
   "outputs": [],
   "source": [
    "# dfSummary(messages_data)\n",
    "# dfSummary(emotional_events)\n",
    "# dfSummary(user_information)\n",
    "# dfSummary(click_data)"
   ]
  },
  {
   "cell_type": "code",
   "execution_count": null,
   "metadata": {},
   "outputs": [],
   "source": [
    "user_information['data_analysis_experience_bins'] = pd.cut(user_information['experience_analysis_tools'], bins=[0, 3, 5, 7], labels=['3 and lower', '4', '5 and higher'])\n",
    "user_information['data_analysis_experience_bins'].value_counts()"
   ]
  },
  {
   "cell_type": "code",
   "execution_count": null,
   "metadata": {},
   "outputs": [],
   "source": [
    "user_info_with_avg_valence = user_information.merge(emotional_events.groupby('userId')['valence'].mean().reset_index(), left_on='id', right_on='userId', how='left')\n",
    "user_info_with_avg_valence"
   ]
  },
  {
   "cell_type": "code",
   "execution_count": null,
   "metadata": {},
   "outputs": [],
   "source": [
    "sns.histplot(user_info_with_avg_valence[user_info_with_avg_valence['data_analysis_experience_bins'] == \"5 and higher\"]['valence'])\n",
    "plt.title('Valence for users with 5 and higher experience')\n",
    "plt.show()"
   ]
  },
  {
   "cell_type": "code",
   "execution_count": null,
   "metadata": {},
   "outputs": [],
   "source": [
    "sns.histplot(user_info_with_avg_valence[user_info_with_avg_valence['data_analysis_experience_bins'] == \"3 and lower\"]['valence'])\n",
    "plt.title('Valence for users with 3 and lower experience')\n",
    "plt.show()"
   ]
  },
  {
   "cell_type": "markdown",
   "metadata": {},
   "source": [
    "## Age\n"
   ]
  },
  {
   "cell_type": "code",
   "execution_count": null,
   "metadata": {},
   "outputs": [],
   "source": [
    "user_information['age_bins'] = pd.cut(user_information['age'], bins=[0, 30, 50, 200], labels=['0-30', '30-50', 'older'])\n",
    "user_info_with_avg_valence = user_information.merge(emotional_events.groupby('userId')['valence'].mean().reset_index(), left_on='id', right_on='userId', how='left')"
   ]
  },
  {
   "cell_type": "code",
   "execution_count": null,
   "metadata": {},
   "outputs": [],
   "source": [
    "for bins in user_info_with_avg_valence['age_bins'].unique():\n",
    "    subset = user_info_with_avg_valence[user_info_with_avg_valence['age_bins'] == bins]\n",
    "    sns.histplot(subset['valence'])\n",
    "    plt.title(f'Valence for users in {bins} age group')\n",
    "    plt.savefig(f'valence_{bins}_age.png')\n",
    "    plt.show()"
   ]
  },
  {
   "cell_type": "markdown",
   "metadata": {},
   "source": [
    "## General Satisfaction"
   ]
  },
  {
   "cell_type": "code",
   "execution_count": null,
   "metadata": {},
   "outputs": [],
   "source": [
    "user_information.columns"
   ]
  },
  {
   "cell_type": "code",
   "execution_count": null,
   "metadata": {},
   "outputs": [],
   "source": [
    "user_information['satisfaction_bins'] = pd.cut(user_information['Satisfaction'], bins=[0, 3, 5, 7], labels=['3 and lower', '4', '5 and higher'])\n",
    "user_info_with_avg_valence = user_information.merge(emotional_events.groupby('userId')['valence'].mean().reset_index(), left_on='id', right_on='userId', how='left')"
   ]
  },
  {
   "cell_type": "code",
   "execution_count": null,
   "metadata": {},
   "outputs": [],
   "source": [
    "for bins in user_info_with_avg_valence['satisfaction_bins'].unique():\n",
    "    subset = user_info_with_avg_valence[user_info_with_avg_valence['satisfaction_bins'] == bins]\n",
    "    sns.histplot(subset['valence'])\n",
    "    plt.title(f'Valence for users with {bins} satisfaction')\n",
    "    plt.savefig(f'valence_{bins}_satisfaction.png')\n",
    "    plt.show()"
   ]
  },
  {
   "cell_type": "markdown",
   "metadata": {},
   "source": [
    "## Trust"
   ]
  },
  {
   "cell_type": "code",
   "execution_count": null,
   "metadata": {},
   "outputs": [],
   "source": [
    "user_information['trust_bins'] = pd.cut(user_information['Trust 1'], bins=[0, 3, 5, 7], labels=['3 and lower', '4', '5 and higher'])\n",
    "user_info_with_avg_valence = user_information.merge(emotional_events.groupby('userId')['valence'].mean().reset_index(), left_on='id', right_on='userId', how='left')"
   ]
  },
  {
   "cell_type": "code",
   "execution_count": null,
   "metadata": {},
   "outputs": [],
   "source": [
    "for bins in user_info_with_avg_valence['trust_bins'].unique():\n",
    "    subset = user_info_with_avg_valence[user_info_with_avg_valence['trust_bins'] == bins]\n",
    "    sns.histplot(subset['valence'])\n",
    "    plt.title(f'Valence for users with {bins} trust (1)')\n",
    "    plt.savefig(f'valence_for_users_with_{bins}_trust.png')\n",
    "    plt.show()"
   ]
  },
  {
   "cell_type": "markdown",
   "metadata": {},
   "source": [
    "## education"
   ]
  },
  {
   "cell_type": "code",
   "execution_count": null,
   "metadata": {},
   "outputs": [],
   "source": [
    "user_info_with_avg_valence = user_information.merge(emotional_events.groupby('userId')['valence'].mean().reset_index(), left_on='id', right_on='userId', how='left')\n"
   ]
  },
  {
   "cell_type": "code",
   "execution_count": null,
   "metadata": {},
   "outputs": [],
   "source": [
    "for bins in user_info_with_avg_valence['education'].unique():\n",
    "    subset = user_info_with_avg_valence[user_info_with_avg_valence['education'] == bins]\n",
    "    sns.histplot(subset['valence'])\n",
    "    plt.title(f'Valence for users with {bins} education')\n",
    "    plt.savefig(f'Valence for users with {bins} education.png')\n",
    "    plt.show()"
   ]
  },
  {
   "cell_type": "markdown",
   "metadata": {},
   "source": [
    "## Mögliche Ideen\n",
    "- wie wirkt sich der Assistent auf die Nutzer aus, je nach dem ob sie Vorerfahrung mit Datenanalyse haben oder nicht?\n",
    "- "
   ]
  }
 ],
 "metadata": {
  "kernelspec": {
   "display_name": ".venv",
   "language": "python",
   "name": "python3"
  },
  "language_info": {
   "codemirror_mode": {
    "name": "ipython",
    "version": 3
   },
   "file_extension": ".py",
   "mimetype": "text/x-python",
   "name": "python",
   "nbconvert_exporter": "python",
   "pygments_lexer": "ipython3",
   "version": "3.12.3"
  }
 },
 "nbformat": 4,
 "nbformat_minor": 2
}
