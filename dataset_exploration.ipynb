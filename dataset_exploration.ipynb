{
 "cells": [
  {
   "cell_type": "code",
   "execution_count": 1,
   "metadata": {},
   "outputs": [
    {
     "name": "stderr",
     "output_type": "stream",
     "text": [
      "/Users/maximiliangraf/dev/uar_llms/.venv/lib/python3.12/site-packages/tqdm/auto.py:21: TqdmWarning: IProgress not found. Please update jupyter and ipywidgets. See https://ipywidgets.readthedocs.io/en/stable/user_install.html\n",
      "  from .autonotebook import tqdm as notebook_tqdm\n"
     ]
    }
   ],
   "source": [
    "import pandas as pd\n",
    "import numpy as np\n",
    "import matplotlib.pyplot as plt\n",
    "import seaborn as sns\n",
    "from summarytools import dfSummary\n",
    "import json\n",
    "from germansentiment import SentimentModel"
   ]
  },
  {
   "cell_type": "code",
   "execution_count": 2,
   "metadata": {},
   "outputs": [
    {
     "name": "stderr",
     "output_type": "stream",
     "text": [
      "[nltk_data] Downloading package vader_lexicon to\n",
      "[nltk_data]     /Users/maximiliangraf/nltk_data...\n",
      "[nltk_data]   Package vader_lexicon is already up-to-date!\n"
     ]
    },
    {
     "data": {
      "text/plain": [
       "True"
      ]
     },
     "execution_count": 2,
     "metadata": {},
     "output_type": "execute_result"
    }
   ],
   "source": [
    "import nltk\n",
    "nltk.download('vader_lexicon')"
   ]
  },
  {
   "cell_type": "code",
   "execution_count": 3,
   "metadata": {},
   "outputs": [],
   "source": [
    "click_data = pd.read_csv('dataset/click_data.csv')\n",
    "emotional_events = pd.read_csv('dataset/emotional_events.csv')\n",
    "messages_data = pd.read_csv('dataset/messages_data.csv')\n",
    "# task_types = pd.read_csv('dataset/task_types.csv')\n",
    "user_information = pd.read_csv('dataset/user_information.csv')"
   ]
  },
  {
   "cell_type": "code",
   "execution_count": 4,
   "metadata": {},
   "outputs": [],
   "source": [
    "# Preprocessing Data Types\n",
    "emotional_events['valence'] = emotional_events['valence'].replace('AO07', '7').astype(float)\n",
    "emotional_events['arousal'] = emotional_events['arousal'].replace('AO07', '7').astype(float)"
   ]
  },
  {
   "cell_type": "code",
   "execution_count": 5,
   "metadata": {},
   "outputs": [
    {
     "data": {
      "text/plain": [
       "1155"
      ]
     },
     "execution_count": 5,
     "metadata": {},
     "output_type": "execute_result"
    }
   ],
   "source": [
    "# Filtering Data\n",
    "\n",
    "ee = emotional_events[emotional_events['task_type'] == 'information_finding']\n",
    "len(ee)"
   ]
  },
  {
   "cell_type": "markdown",
   "metadata": {},
   "source": [
    "# Create Emotion Quartiles"
   ]
  },
  {
   "cell_type": "code",
   "execution_count": 6,
   "metadata": {},
   "outputs": [
    {
     "data": {
      "text/plain": [
       "array([ 6., nan,  5.,  3.,  2.,  7.,  4.,  1.])"
      ]
     },
     "execution_count": 6,
     "metadata": {},
     "output_type": "execute_result"
    }
   ],
   "source": [
    "ee['arousal'].unique()"
   ]
  },
  {
   "cell_type": "code",
   "execution_count": 7,
   "metadata": {},
   "outputs": [
    {
     "data": {
      "text/plain": [
       "array([ 5., nan,  1.,  3.,  2.,  6.,  4.])"
      ]
     },
     "execution_count": 7,
     "metadata": {},
     "output_type": "execute_result"
    }
   ],
   "source": [
    "ee['valence'].unique()"
   ]
  },
  {
   "cell_type": "code",
   "execution_count": 8,
   "metadata": {},
   "outputs": [
    {
     "name": "stderr",
     "output_type": "stream",
     "text": [
      "/var/folders/0l/fp5jbw5d4js9sfncm37r31br0000gn/T/ipykernel_55860/2962854141.py:1: SettingWithCopyWarning: \n",
      "A value is trying to be set on a copy of a slice from a DataFrame.\n",
      "Try using .loc[row_indexer,col_indexer] = value instead\n",
      "\n",
      "See the caveats in the documentation: https://pandas.pydata.org/pandas-docs/stable/user_guide/indexing.html#returning-a-view-versus-a-copy\n",
      "  ee['valence_high'] = np.where(ee['valence'] > 3, 1, 0)\n",
      "/var/folders/0l/fp5jbw5d4js9sfncm37r31br0000gn/T/ipykernel_55860/2962854141.py:2: SettingWithCopyWarning: \n",
      "A value is trying to be set on a copy of a slice from a DataFrame.\n",
      "Try using .loc[row_indexer,col_indexer] = value instead\n",
      "\n",
      "See the caveats in the documentation: https://pandas.pydata.org/pandas-docs/stable/user_guide/indexing.html#returning-a-view-versus-a-copy\n",
      "  ee['arousal_high'] = np.where(ee['arousal'] > 3, 1, 0)\n"
     ]
    }
   ],
   "source": [
    "ee['valence_high'] = np.where(ee['valence'] > 3, 1, 0)\n",
    "ee['arousal_high'] = np.where(ee['arousal'] > 3, 1, 0)"
   ]
  },
  {
   "cell_type": "markdown",
   "metadata": {},
   "source": [
    "x: valence\n",
    "y: arousal\n",
    "\n",
    "|2|4|\n",
    "|---|---|\n",
    "|1|3|"
   ]
  },
  {
   "cell_type": "code",
   "execution_count": 9,
   "metadata": {},
   "outputs": [
    {
     "name": "stderr",
     "output_type": "stream",
     "text": [
      "/var/folders/0l/fp5jbw5d4js9sfncm37r31br0000gn/T/ipykernel_55860/590376670.py:13: SettingWithCopyWarning: \n",
      "A value is trying to be set on a copy of a slice from a DataFrame.\n",
      "Try using .loc[row_indexer,col_indexer] = value instead\n",
      "\n",
      "See the caveats in the documentation: https://pandas.pydata.org/pandas-docs/stable/user_guide/indexing.html#returning-a-view-versus-a-copy\n",
      "  ee['emotion_quartile'] = ee.apply(get_emotion_score, axis=1)\n"
     ]
    }
   ],
   "source": [
    "def get_emotion_score(df):\n",
    "    if df['valence_high'] == 1 and df['arousal_high'] == 1:\n",
    "        return 4\n",
    "    elif df['valence_high'] == 1 and df['arousal_high'] == 0:\n",
    "        return 3\n",
    "    elif df['valence_high'] == 0 and df['arousal_high'] == 1:\n",
    "        return 2\n",
    "    elif df['valence_high'] == 0 and df['arousal_high'] == 0:\n",
    "        return 1\n",
    "    else:\n",
    "        return np.nan\n",
    "    \n",
    "ee['emotion_quartile'] = ee.apply(get_emotion_score, axis=1)"
   ]
  },
  {
   "cell_type": "code",
   "execution_count": 10,
   "metadata": {},
   "outputs": [
    {
     "data": {
      "text/plain": [
       "emotion_quartile\n",
       "1    552\n",
       "4    293\n",
       "2    247\n",
       "3     63\n",
       "Name: count, dtype: int64"
      ]
     },
     "execution_count": 10,
     "metadata": {},
     "output_type": "execute_result"
    }
   ],
   "source": [
    "ee.emotion_quartile.value_counts()"
   ]
  },
  {
   "cell_type": "markdown",
   "metadata": {},
   "source": [
    "# Erstellung der neuen Features"
   ]
  },
  {
   "cell_type": "code",
   "execution_count": 11,
   "metadata": {},
   "outputs": [
    {
     "name": "stdout",
     "output_type": "stream",
     "text": [
      "<class 'pandas.core.frame.DataFrame'>\n",
      "Index: 1155 entries, 0 to 1634\n",
      "Data columns (total 17 columns):\n",
      " #   Column            Non-Null Count  Dtype  \n",
      "---  ------            --------------  -----  \n",
      " 0   id                0 non-null      float64\n",
      " 1   userId            1155 non-null   int64  \n",
      " 2   task_type         1155 non-null   object \n",
      " 3   task              1155 non-null   int64  \n",
      " 4   input_type        1155 non-null   object \n",
      " 5   input             1150 non-null   object \n",
      " 6   input_assessment  0 non-null      float64\n",
      " 7   confidence        405 non-null    float64\n",
      " 8   understanding     405 non-null    float64\n",
      " 9   valence           758 non-null    float64\n",
      " 10  arousal           758 non-null    float64\n",
      " 11  task_start        405 non-null    float64\n",
      " 12  task_end          1155 non-null   float64\n",
      " 13  task_time         405 non-null    float64\n",
      " 14  valence_high      1155 non-null   int64  \n",
      " 15  arousal_high      1155 non-null   int64  \n",
      " 16  emotion_quartile  1155 non-null   int64  \n",
      "dtypes: float64(9), int64(5), object(3)\n",
      "memory usage: 162.4+ KB\n"
     ]
    }
   ],
   "source": [
    "ee.info()"
   ]
  },
  {
   "cell_type": "code",
   "execution_count": 12,
   "metadata": {},
   "outputs": [
    {
     "name": "stdout",
     "output_type": "stream",
     "text": [
      "<class 'pandas.core.frame.DataFrame'>\n",
      "RangeIndex: 2560 entries, 0 to 2559\n",
      "Data columns (total 6 columns):\n",
      " #   Column          Non-Null Count  Dtype \n",
      "---  ------          --------------  ----- \n",
      " 0   userId          2560 non-null   int64 \n",
      " 1   task            2560 non-null   int64 \n",
      " 2   message_type    2560 non-null   object\n",
      " 3   timestamp       2560 non-null   object\n",
      " 4   input           2560 non-null   object\n",
      " 5   timestamp_unix  2560 non-null   int64 \n",
      "dtypes: int64(3), object(3)\n",
      "memory usage: 120.1+ KB\n"
     ]
    }
   ],
   "source": [
    "messages_data.info()"
   ]
  },
  {
   "cell_type": "code",
   "execution_count": 13,
   "metadata": {},
   "outputs": [
    {
     "data": {
      "text/html": [
       "<div>\n",
       "<style scoped>\n",
       "    .dataframe tbody tr th:only-of-type {\n",
       "        vertical-align: middle;\n",
       "    }\n",
       "\n",
       "    .dataframe tbody tr th {\n",
       "        vertical-align: top;\n",
       "    }\n",
       "\n",
       "    .dataframe thead th {\n",
       "        text-align: right;\n",
       "    }\n",
       "</style>\n",
       "<table border=\"1\" class=\"dataframe\">\n",
       "  <thead>\n",
       "    <tr style=\"text-align: right;\">\n",
       "      <th></th>\n",
       "      <th>userId</th>\n",
       "      <th>task</th>\n",
       "      <th>message_type</th>\n",
       "      <th>timestamp</th>\n",
       "      <th>input</th>\n",
       "      <th>timestamp_unix</th>\n",
       "      <th>agent_output</th>\n",
       "      <th>user_input</th>\n",
       "    </tr>\n",
       "  </thead>\n",
       "  <tbody>\n",
       "    <tr>\n",
       "      <th>0</th>\n",
       "      <td>127</td>\n",
       "      <td>1</td>\n",
       "      <td>human</td>\n",
       "      <td>2024-06-25 09:01:09.815275</td>\n",
       "      <td>{\"input\": \"Gibt es zu einem oder mehreren Stad...</td>\n",
       "      <td>1719306069</td>\n",
       "      <td>None</td>\n",
       "      <td>Gibt es zu einem oder mehreren Stadtbezirken a...</td>\n",
       "    </tr>\n",
       "    <tr>\n",
       "      <th>1</th>\n",
       "      <td>127</td>\n",
       "      <td>5</td>\n",
       "      <td>human</td>\n",
       "      <td>2024-06-25 09:05:50.543523</td>\n",
       "      <td>{\"input\": \"In welchem Stadtbezirk gab es 2010 ...</td>\n",
       "      <td>1719306350</td>\n",
       "      <td>None</td>\n",
       "      <td>In welchem Stadtbezirk gab es 2010 die meisten...</td>\n",
       "    </tr>\n",
       "    <tr>\n",
       "      <th>2</th>\n",
       "      <td>127</td>\n",
       "      <td>5</td>\n",
       "      <td>agent_finish</td>\n",
       "      <td>2024-06-25 09:05:59.495982</td>\n",
       "      <td>{\"output\": \"Der Stadtbezirk mit den meisten Al...</td>\n",
       "      <td>1719306359</td>\n",
       "      <td>Der Stadtbezirk mit den meisten Altbauwohnunge...</td>\n",
       "      <td>None</td>\n",
       "    </tr>\n",
       "    <tr>\n",
       "      <th>3</th>\n",
       "      <td>127</td>\n",
       "      <td>5</td>\n",
       "      <td>human</td>\n",
       "      <td>2024-06-25 09:10:14.895027</td>\n",
       "      <td>{\"input\": \"Stadtbezirk mit den meisten Wohnung...</td>\n",
       "      <td>1719306614</td>\n",
       "      <td>None</td>\n",
       "      <td>Stadtbezirk mit den meisten Wohnungen mit Bauj...</td>\n",
       "    </tr>\n",
       "    <tr>\n",
       "      <th>4</th>\n",
       "      <td>129</td>\n",
       "      <td>4</td>\n",
       "      <td>human</td>\n",
       "      <td>2024-06-25 09:19:21.478092</td>\n",
       "      <td>{\"input\": \"Wie hoch ist die Kitaquote in der S...</td>\n",
       "      <td>1719307161</td>\n",
       "      <td>None</td>\n",
       "      <td>Wie hoch ist die Kitaquote in der Stadt Freibu...</td>\n",
       "    </tr>\n",
       "    <tr>\n",
       "      <th>...</th>\n",
       "      <td>...</td>\n",
       "      <td>...</td>\n",
       "      <td>...</td>\n",
       "      <td>...</td>\n",
       "      <td>...</td>\n",
       "      <td>...</td>\n",
       "      <td>...</td>\n",
       "      <td>...</td>\n",
       "    </tr>\n",
       "    <tr>\n",
       "      <th>2555</th>\n",
       "      <td>238</td>\n",
       "      <td>5</td>\n",
       "      <td>agent_finish</td>\n",
       "      <td>2024-07-09 16:42:55.708772</td>\n",
       "      <td>{\"output\": \"In Oberwiehre gab es 2010 die meis...</td>\n",
       "      <td>1720543375</td>\n",
       "      <td>In Oberwiehre gab es 2010 die meisten Altbauwo...</td>\n",
       "      <td>None</td>\n",
       "    </tr>\n",
       "    <tr>\n",
       "      <th>2556</th>\n",
       "      <td>238</td>\n",
       "      <td>5</td>\n",
       "      <td>human</td>\n",
       "      <td>2024-07-09 16:44:19.09898</td>\n",
       "      <td>{\"input\": \"wie viele Baugenehmigungen wurden i...</td>\n",
       "      <td>1720543459</td>\n",
       "      <td>None</td>\n",
       "      <td>wie viele Baugenehmigungen wurden in Oberwiehr...</td>\n",
       "    </tr>\n",
       "    <tr>\n",
       "      <th>2557</th>\n",
       "      <td>238</td>\n",
       "      <td>5</td>\n",
       "      <td>agent_finish</td>\n",
       "      <td>2024-07-09 16:44:25.837833</td>\n",
       "      <td>{\"output\": \"In Oberwiehre wurden insgesamt X B...</td>\n",
       "      <td>1720543465</td>\n",
       "      <td>In Oberwiehre wurden insgesamt X Baugenehmigun...</td>\n",
       "      <td>None</td>\n",
       "    </tr>\n",
       "    <tr>\n",
       "      <th>2558</th>\n",
       "      <td>238</td>\n",
       "      <td>5</td>\n",
       "      <td>human</td>\n",
       "      <td>2024-07-09 16:45:41.986446</td>\n",
       "      <td>{\"input\": \"wie viele Baugenehmigungen sind  in...</td>\n",
       "      <td>1720543541</td>\n",
       "      <td>None</td>\n",
       "      <td>wie viele Baugenehmigungen sind  in Oberwiehre...</td>\n",
       "    </tr>\n",
       "    <tr>\n",
       "      <th>2559</th>\n",
       "      <td>238</td>\n",
       "      <td>5</td>\n",
       "      <td>agent_finish</td>\n",
       "      <td>2024-07-09 16:45:48.404621</td>\n",
       "      <td>{\"output\": \"In Oberwiehre wurden insgesamt X B...</td>\n",
       "      <td>1720543548</td>\n",
       "      <td>In Oberwiehre wurden insgesamt X Baugenehmigun...</td>\n",
       "      <td>None</td>\n",
       "    </tr>\n",
       "  </tbody>\n",
       "</table>\n",
       "<p>2560 rows × 8 columns</p>\n",
       "</div>"
      ],
      "text/plain": [
       "      userId  task  message_type                   timestamp  \\\n",
       "0        127     1         human  2024-06-25 09:01:09.815275   \n",
       "1        127     5         human  2024-06-25 09:05:50.543523   \n",
       "2        127     5  agent_finish  2024-06-25 09:05:59.495982   \n",
       "3        127     5         human  2024-06-25 09:10:14.895027   \n",
       "4        129     4         human  2024-06-25 09:19:21.478092   \n",
       "...      ...   ...           ...                         ...   \n",
       "2555     238     5  agent_finish  2024-07-09 16:42:55.708772   \n",
       "2556     238     5         human   2024-07-09 16:44:19.09898   \n",
       "2557     238     5  agent_finish  2024-07-09 16:44:25.837833   \n",
       "2558     238     5         human  2024-07-09 16:45:41.986446   \n",
       "2559     238     5  agent_finish  2024-07-09 16:45:48.404621   \n",
       "\n",
       "                                                  input  timestamp_unix  \\\n",
       "0     {\"input\": \"Gibt es zu einem oder mehreren Stad...      1719306069   \n",
       "1     {\"input\": \"In welchem Stadtbezirk gab es 2010 ...      1719306350   \n",
       "2     {\"output\": \"Der Stadtbezirk mit den meisten Al...      1719306359   \n",
       "3     {\"input\": \"Stadtbezirk mit den meisten Wohnung...      1719306614   \n",
       "4     {\"input\": \"Wie hoch ist die Kitaquote in der S...      1719307161   \n",
       "...                                                 ...             ...   \n",
       "2555  {\"output\": \"In Oberwiehre gab es 2010 die meis...      1720543375   \n",
       "2556  {\"input\": \"wie viele Baugenehmigungen wurden i...      1720543459   \n",
       "2557  {\"output\": \"In Oberwiehre wurden insgesamt X B...      1720543465   \n",
       "2558  {\"input\": \"wie viele Baugenehmigungen sind  in...      1720543541   \n",
       "2559  {\"output\": \"In Oberwiehre wurden insgesamt X B...      1720543548   \n",
       "\n",
       "                                           agent_output  \\\n",
       "0                                                  None   \n",
       "1                                                  None   \n",
       "2     Der Stadtbezirk mit den meisten Altbauwohnunge...   \n",
       "3                                                  None   \n",
       "4                                                  None   \n",
       "...                                                 ...   \n",
       "2555  In Oberwiehre gab es 2010 die meisten Altbauwo...   \n",
       "2556                                               None   \n",
       "2557  In Oberwiehre wurden insgesamt X Baugenehmigun...   \n",
       "2558                                               None   \n",
       "2559  In Oberwiehre wurden insgesamt X Baugenehmigun...   \n",
       "\n",
       "                                             user_input  \n",
       "0     Gibt es zu einem oder mehreren Stadtbezirken a...  \n",
       "1     In welchem Stadtbezirk gab es 2010 die meisten...  \n",
       "2                                                  None  \n",
       "3     Stadtbezirk mit den meisten Wohnungen mit Bauj...  \n",
       "4     Wie hoch ist die Kitaquote in der Stadt Freibu...  \n",
       "...                                                 ...  \n",
       "2555                                               None  \n",
       "2556  wie viele Baugenehmigungen wurden in Oberwiehr...  \n",
       "2557                                               None  \n",
       "2558  wie viele Baugenehmigungen sind  in Oberwiehre...  \n",
       "2559                                               None  \n",
       "\n",
       "[2560 rows x 8 columns]"
      ]
     },
     "execution_count": 13,
     "metadata": {},
     "output_type": "execute_result"
    }
   ],
   "source": [
    "messages_data['agent_output'] = messages_data['input'].apply(lambda x: json.loads(x).get('output'))\n",
    "messages_data['user_input'] = messages_data['input'].apply(lambda x: json.loads(x).get('input'))\n",
    "messages_data"
   ]
  },
  {
   "cell_type": "code",
   "execution_count": 14,
   "metadata": {},
   "outputs": [
    {
     "name": "stdout",
     "output_type": "stream",
     "text": [
      "<class 'pandas.core.frame.DataFrame'>\n",
      "Index: 1155 entries, 0 to 1634\n",
      "Data columns (total 16 columns):\n",
      " #   Column            Non-Null Count  Dtype  \n",
      "---  ------            --------------  -----  \n",
      " 0   userId            1155 non-null   int64  \n",
      " 1   task_type         1155 non-null   object \n",
      " 2   task              1155 non-null   int64  \n",
      " 3   input_type        1155 non-null   object \n",
      " 4   input             1150 non-null   object \n",
      " 5   input_assessment  0 non-null      float64\n",
      " 6   confidence        405 non-null    float64\n",
      " 7   understanding     405 non-null    float64\n",
      " 8   valence           758 non-null    float64\n",
      " 9   arousal           758 non-null    float64\n",
      " 10  task_start        405 non-null    float64\n",
      " 11  task_end          1155 non-null   float64\n",
      " 12  task_time         405 non-null    float64\n",
      " 13  valence_high      1155 non-null   int64  \n",
      " 14  arousal_high      1155 non-null   int64  \n",
      " 15  emotion_quartile  1155 non-null   int64  \n",
      "dtypes: float64(8), int64(5), object(3)\n",
      "memory usage: 153.4+ KB\n"
     ]
    },
    {
     "name": "stderr",
     "output_type": "stream",
     "text": [
      "/var/folders/0l/fp5jbw5d4js9sfncm37r31br0000gn/T/ipykernel_55860/3227853757.py:1: SettingWithCopyWarning: \n",
      "A value is trying to be set on a copy of a slice from a DataFrame\n",
      "\n",
      "See the caveats in the documentation: https://pandas.pydata.org/pandas-docs/stable/user_guide/indexing.html#returning-a-view-versus-a-copy\n",
      "  ee.drop(columns='id', inplace=True)\n"
     ]
    }
   ],
   "source": [
    "ee.drop(columns='id', inplace=True)\n",
    "ee.info()"
   ]
  },
  {
   "cell_type": "markdown",
   "metadata": {},
   "source": [
    "## No answer given "
   ]
  },
  {
   "cell_type": "code",
   "execution_count": 15,
   "metadata": {},
   "outputs": [],
   "source": [
    "# conversation ended in a technical error\n",
    "df = pd.merge(ee, messages_data, left_on=['userId', 'task'], right_on=['userId', 'task'], how='left')"
   ]
  },
  {
   "cell_type": "code",
   "execution_count": 16,
   "metadata": {},
   "outputs": [
    {
     "name": "stdout",
     "output_type": "stream",
     "text": [
      "no_answer_given\n",
      "False    6812\n",
      "True      506\n",
      "Name: count, dtype: int64\n"
     ]
    }
   ],
   "source": [
    "df['no_answer_given'] = df['agent_output'] == \"Leider habe ich keine Antwort auf diese Frage. Versuchen Sie bitte Ihre Frage anders zu formulieren, oder komplexe Fragestellungen in einfachere Fragen zu unterteilen.\"\n",
    "print(df.no_answer_given.value_counts())"
   ]
  },
  {
   "cell_type": "markdown",
   "metadata": {},
   "source": [
    "## Prompt Sentiment"
   ]
  },
  {
   "cell_type": "code",
   "execution_count": 17,
   "metadata": {},
   "outputs": [
    {
     "name": "stdout",
     "output_type": "stream",
     "text": [
      "<class 'pandas.core.frame.DataFrame'>\n",
      "RangeIndex: 7318 entries, 0 to 7317\n",
      "Data columns (total 23 columns):\n",
      " #   Column            Non-Null Count  Dtype  \n",
      "---  ------            --------------  -----  \n",
      " 0   userId            7318 non-null   int64  \n",
      " 1   task_type         7318 non-null   object \n",
      " 2   task              7318 non-null   int64  \n",
      " 3   input_type        7318 non-null   object \n",
      " 4   input_x           7313 non-null   object \n",
      " 5   input_assessment  0 non-null      float64\n",
      " 6   confidence        2434 non-null   float64\n",
      " 7   understanding     2434 non-null   float64\n",
      " 8   valence           4871 non-null   float64\n",
      " 9   arousal           4871 non-null   float64\n",
      " 10  task_start        2434 non-null   float64\n",
      " 11  task_end          7318 non-null   float64\n",
      " 12  task_time         2434 non-null   float64\n",
      " 13  valence_high      7318 non-null   int64  \n",
      " 14  arousal_high      7318 non-null   int64  \n",
      " 15  emotion_quartile  7318 non-null   int64  \n",
      " 16  message_type      7298 non-null   object \n",
      " 17  timestamp         7298 non-null   object \n",
      " 18  input_y           7298 non-null   object \n",
      " 19  timestamp_unix    7298 non-null   float64\n",
      " 20  agent_output      3557 non-null   object \n",
      " 21  user_input        3741 non-null   object \n",
      " 22  no_answer_given   7318 non-null   bool   \n",
      "dtypes: bool(1), float64(9), int64(5), object(8)\n",
      "memory usage: 1.2+ MB\n"
     ]
    }
   ],
   "source": [
    "df.info()"
   ]
  },
  {
   "cell_type": "code",
   "execution_count": 18,
   "metadata": {},
   "outputs": [
    {
     "data": {
      "text/plain": [
       "['negative']"
      ]
     },
     "execution_count": 18,
     "metadata": {},
     "output_type": "execute_result"
    }
   ],
   "source": [
    "model = SentimentModel()\n",
    "texts = [\n",
    "    \"Mit keinem guten Ergebniss\",\"Das ist gar nicht mal so gut\",\n",
    "    \"Total awesome!\",\"nicht so schlecht wie erwartet\",\n",
    "    \"Der Test verlief positiv.\",\"Sie fährt ein grünes Auto.\"]\n",
    "       \n",
    "model.predict_sentiment([\"Mit keinem guten Ergebniss\"])"
   ]
  },
  {
   "cell_type": "code",
   "execution_count": 23,
   "metadata": {},
   "outputs": [
    {
     "data": {
      "text/plain": [
       "0       {\"input\": \"Nennen Sie alle Bezirke in einer du...\n",
       "1       {\"output\": \"Unterwiehre-S\\u00fcd, Herdern-Nord...\n",
       "2       {\"input\": \"Nennen Sie alle Bezirke in einer du...\n",
       "3       {\"output\": \"Unterwiehre-S\\u00fcd, Herdern-Nord...\n",
       "4       {\"input\": \"Nennen Sie die Einwohnerzahlen die ...\n",
       "                              ...                        \n",
       "7313    {\"output\": \"In Oberwiehre gab es 2010 die meis...\n",
       "7314    {\"input\": \"wie viele Baugenehmigungen wurden i...\n",
       "7315    {\"output\": \"In Oberwiehre wurden insgesamt X B...\n",
       "7316    {\"input\": \"wie viele Baugenehmigungen sind  in...\n",
       "7317    {\"output\": \"In Oberwiehre wurden insgesamt X B...\n",
       "Name: input_y, Length: 7318, dtype: object"
      ]
     },
     "execution_count": 23,
     "metadata": {},
     "output_type": "execute_result"
    }
   ],
   "source": [
    "df['input_y'].astype(str)"
   ]
  },
  {
   "cell_type": "code",
   "execution_count": 29,
   "metadata": {},
   "outputs": [
    {
     "ename": "AttributeError",
     "evalue": "'list' object has no attribute 'dtpyes'",
     "output_type": "error",
     "traceback": [
      "\u001b[0;31m---------------------------------------------------------------------------\u001b[0m",
      "\u001b[0;31mAttributeError\u001b[0m                            Traceback (most recent call last)",
      "Cell \u001b[0;32mIn[29], line 1\u001b[0m\n\u001b[0;32m----> 1\u001b[0m unpacked_messages \u001b[38;5;241m=\u001b[39m \u001b[43mpd\u001b[49m\u001b[38;5;241;43m.\u001b[39;49m\u001b[43mjson_normalize\u001b[49m\u001b[43m(\u001b[49m\u001b[43mmessages_data\u001b[49m\u001b[43m[\u001b[49m\u001b[38;5;124;43m'\u001b[39;49m\u001b[38;5;124;43minput\u001b[39;49m\u001b[38;5;124;43m'\u001b[39;49m\u001b[43m]\u001b[49m\u001b[38;5;241;43m.\u001b[39;49m\u001b[43mapply\u001b[49m\u001b[43m(\u001b[49m\u001b[43mjson\u001b[49m\u001b[38;5;241;43m.\u001b[39;49m\u001b[43mloads\u001b[49m\u001b[43m)\u001b[49m\u001b[38;5;241;43m.\u001b[39;49m\u001b[43mtolist\u001b[49m\u001b[43m(\u001b[49m\u001b[43m)\u001b[49m\u001b[43m)\u001b[49m\u001b[38;5;241;43m.\u001b[39;49m\u001b[43mvalues\u001b[49m\u001b[38;5;241;43m.\u001b[39;49m\u001b[43mflatten\u001b[49m\u001b[43m(\u001b[49m\u001b[43m)\u001b[49m\u001b[38;5;241;43m.\u001b[39;49m\u001b[43mtolist\u001b[49m\u001b[43m(\u001b[49m\u001b[43m)\u001b[49m\u001b[38;5;241;43m.\u001b[39;49m\u001b[43mdtpyes\u001b[49m\n",
      "\u001b[0;31mAttributeError\u001b[0m: 'list' object has no attribute 'dtpyes'"
     ]
    }
   ],
   "source": [
    "unpacked_messages = pd.json_normalize(messages_data['input'].apply(json.loads).tolist()).values.flatten().tolist()"
   ]
  },
  {
   "cell_type": "code",
   "execution_count": 31,
   "metadata": {},
   "outputs": [
    {
     "name": "stdout",
     "output_type": "stream",
     "text": [
      "<class 'str'>\n"
     ]
    }
   ],
   "source": [
    "print(type(unpacked_messages[0]))"
   ]
  },
  {
   "cell_type": "code",
   "execution_count": 28,
   "metadata": {},
   "outputs": [
    {
     "ename": "AttributeError",
     "evalue": "'float' object has no attribute 'replace'",
     "output_type": "error",
     "traceback": [
      "\u001b[0;31m---------------------------------------------------------------------------\u001b[0m",
      "\u001b[0;31mAttributeError\u001b[0m                            Traceback (most recent call last)",
      "Cell \u001b[0;32mIn[28], line 1\u001b[0m\n\u001b[0;32m----> 1\u001b[0m df[\u001b[38;5;124m'\u001b[39m\u001b[38;5;124msentiment\u001b[39m\u001b[38;5;124m'\u001b[39m] \u001b[38;5;241m=\u001b[39m \u001b[43mmodel\u001b[49m\u001b[38;5;241;43m.\u001b[39;49m\u001b[43mpredict_sentiment\u001b[49m\u001b[43m(\u001b[49m\u001b[43munpacked_messages\u001b[49m\u001b[43m)\u001b[49m\n",
      "File \u001b[0;32m~/dev/uar_llms/.venv/lib/python3.12/site-packages/germansentiment/sentimentmodel.py:22\u001b[0m, in \u001b[0;36mSentimentModel.predict_sentiment\u001b[0;34m(self, texts, output_probabilities)\u001b[0m\n\u001b[1;32m     21\u001b[0m \u001b[38;5;28;01mdef\u001b[39;00m \u001b[38;5;21mpredict_sentiment\u001b[39m(\u001b[38;5;28mself\u001b[39m, texts: List[\u001b[38;5;28mstr\u001b[39m], output_probabilities \u001b[38;5;241m=\u001b[39m \u001b[38;5;28;01mFalse\u001b[39;00m)\u001b[38;5;241m-\u001b[39m\u001b[38;5;241m>\u001b[39m List[\u001b[38;5;28mstr\u001b[39m]:\n\u001b[0;32m---> 22\u001b[0m     texts \u001b[38;5;241m=\u001b[39m [\u001b[38;5;28;43mself\u001b[39;49m\u001b[38;5;241;43m.\u001b[39;49m\u001b[43mclean_text\u001b[49m\u001b[43m(\u001b[49m\u001b[43mtext\u001b[49m\u001b[43m)\u001b[49m \u001b[38;5;28;01mfor\u001b[39;00m text \u001b[38;5;129;01min\u001b[39;00m texts]\n\u001b[1;32m     23\u001b[0m     \u001b[38;5;66;03m# Add special tokens takes care of adding [CLS], [SEP], <s>... tokens in the right way for each model.\u001b[39;00m\n\u001b[1;32m     24\u001b[0m     \u001b[38;5;66;03m# truncation=True limits number of tokens to model's limitations (512)\u001b[39;00m\n\u001b[1;32m     25\u001b[0m     encoded \u001b[38;5;241m=\u001b[39m \u001b[38;5;28mself\u001b[39m\u001b[38;5;241m.\u001b[39mtokenizer\u001b[38;5;241m.\u001b[39mbatch_encode_plus(texts,padding\u001b[38;5;241m=\u001b[39m\u001b[38;5;28;01mTrue\u001b[39;00m, add_special_tokens\u001b[38;5;241m=\u001b[39m\u001b[38;5;28;01mTrue\u001b[39;00m,truncation\u001b[38;5;241m=\u001b[39m\u001b[38;5;28;01mTrue\u001b[39;00m, return_tensors\u001b[38;5;241m=\u001b[39m\u001b[38;5;124m\"\u001b[39m\u001b[38;5;124mpt\u001b[39m\u001b[38;5;124m\"\u001b[39m)\n",
      "File \u001b[0;32m~/dev/uar_llms/.venv/lib/python3.12/site-packages/germansentiment/sentimentmodel.py:49\u001b[0m, in \u001b[0;36mSentimentModel.clean_text\u001b[0;34m(self, text)\u001b[0m\n\u001b[1;32m     48\u001b[0m \u001b[38;5;28;01mdef\u001b[39;00m \u001b[38;5;21mclean_text\u001b[39m(\u001b[38;5;28mself\u001b[39m,text: \u001b[38;5;28mstr\u001b[39m)\u001b[38;5;241m-\u001b[39m\u001b[38;5;241m>\u001b[39m \u001b[38;5;28mstr\u001b[39m:    \n\u001b[0;32m---> 49\u001b[0m         text \u001b[38;5;241m=\u001b[39m \u001b[43mtext\u001b[49m\u001b[38;5;241;43m.\u001b[39;49m\u001b[43mreplace\u001b[49m(\u001b[38;5;124m\"\u001b[39m\u001b[38;5;130;01m\\n\u001b[39;00m\u001b[38;5;124m\"\u001b[39m, \u001b[38;5;124m\"\u001b[39m\u001b[38;5;124m \u001b[39m\u001b[38;5;124m\"\u001b[39m)        \n\u001b[1;32m     50\u001b[0m         text \u001b[38;5;241m=\u001b[39m \u001b[38;5;28mself\u001b[39m\u001b[38;5;241m.\u001b[39mclean_http_urls\u001b[38;5;241m.\u001b[39msub(\u001b[38;5;124m'\u001b[39m\u001b[38;5;124m'\u001b[39m,text)\n\u001b[1;32m     51\u001b[0m         text \u001b[38;5;241m=\u001b[39m \u001b[38;5;28mself\u001b[39m\u001b[38;5;241m.\u001b[39mclean_at_mentions\u001b[38;5;241m.\u001b[39msub(\u001b[38;5;124m'\u001b[39m\u001b[38;5;124m'\u001b[39m,text)        \n",
      "\u001b[0;31mAttributeError\u001b[0m: 'float' object has no attribute 'replace'"
     ]
    }
   ],
   "source": [
    "df['sentiment'] = model.predict_sentiment(unpacked_messages)"
   ]
  },
  {
   "cell_type": "code",
   "execution_count": null,
   "metadata": {},
   "outputs": [],
   "source": [
    "df"
   ]
  },
  {
   "cell_type": "code",
   "execution_count": null,
   "metadata": {},
   "outputs": [],
   "source": [
    "cols_for_histplot = user_information.columns[4:]"
   ]
  },
  {
   "cell_type": "code",
   "execution_count": null,
   "metadata": {},
   "outputs": [],
   "source": [
    "for col in cols_for_histplot:\n",
    "    \n",
    "    sns.histplot(user_information[col])\n",
    "    plt.title(col)\n",
    "    plt.savefig(f'{col}_histplot.png')\n",
    "    plt.show()"
   ]
  },
  {
   "cell_type": "code",
   "execution_count": null,
   "metadata": {},
   "outputs": [],
   "source": [
    "# dfSummary(messages_data)\n",
    "# dfSummary(emotional_events)\n",
    "# dfSummary(user_information)\n",
    "# dfSummary(click_data)"
   ]
  },
  {
   "cell_type": "code",
   "execution_count": null,
   "metadata": {},
   "outputs": [],
   "source": [
    "user_information['data_analysis_experience_bins'] = pd.cut(user_information['experience_analysis_tools'], bins=[0, 3, 5, 7], labels=['3 and lower', '4', '5 and higher'])\n",
    "user_information['data_analysis_experience_bins'].value_counts()"
   ]
  },
  {
   "cell_type": "code",
   "execution_count": null,
   "metadata": {},
   "outputs": [],
   "source": [
    "user_info_with_avg_valence = user_information.merge(emotional_events.groupby('userId')['valence'].mean().reset_index(), left_on='id', right_on='userId', how='left')\n",
    "user_info_with_avg_valence"
   ]
  },
  {
   "cell_type": "code",
   "execution_count": null,
   "metadata": {},
   "outputs": [],
   "source": [
    "sns.histplot(user_info_with_avg_valence[user_info_with_avg_valence['data_analysis_experience_bins'] == \"5 and higher\"]['valence'])\n",
    "plt.title('Valence for users with 5 and higher experience')\n",
    "plt.show()"
   ]
  },
  {
   "cell_type": "code",
   "execution_count": null,
   "metadata": {},
   "outputs": [],
   "source": [
    "sns.histplot(user_info_with_avg_valence[user_info_with_avg_valence['data_analysis_experience_bins'] == \"3 and lower\"]['valence'])\n",
    "plt.title('Valence for users with 3 and lower experience')\n",
    "plt.show()"
   ]
  },
  {
   "cell_type": "markdown",
   "metadata": {},
   "source": [
    "## Age\n"
   ]
  },
  {
   "cell_type": "code",
   "execution_count": null,
   "metadata": {},
   "outputs": [],
   "source": [
    "user_information['age_bins'] = pd.cut(user_information['age'], bins=[0, 30, 50, 200], labels=['0-30', '30-50', 'older'])\n",
    "user_info_with_avg_valence = user_information.merge(emotional_events.groupby('userId')['valence'].mean().reset_index(), left_on='id', right_on='userId', how='left')"
   ]
  },
  {
   "cell_type": "code",
   "execution_count": null,
   "metadata": {},
   "outputs": [],
   "source": [
    "for bins in user_info_with_avg_valence['age_bins'].unique():\n",
    "    subset = user_info_with_avg_valence[user_info_with_avg_valence['age_bins'] == bins]\n",
    "    sns.histplot(subset['valence'])\n",
    "    plt.title(f'Valence for users in {bins} age group')\n",
    "    plt.savefig(f'valence_{bins}_age.png')\n",
    "    plt.show()"
   ]
  },
  {
   "cell_type": "markdown",
   "metadata": {},
   "source": [
    "## General Satisfaction"
   ]
  },
  {
   "cell_type": "code",
   "execution_count": null,
   "metadata": {},
   "outputs": [],
   "source": [
    "user_information.columns"
   ]
  },
  {
   "cell_type": "code",
   "execution_count": null,
   "metadata": {},
   "outputs": [],
   "source": [
    "user_information['satisfaction_bins'] = pd.cut(user_information['Satisfaction'], bins=[0, 3, 5, 7], labels=['3 and lower', '4', '5 and higher'])\n",
    "user_info_with_avg_valence = user_information.merge(emotional_events.groupby('userId')['valence'].mean().reset_index(), left_on='id', right_on='userId', how='left')"
   ]
  },
  {
   "cell_type": "code",
   "execution_count": null,
   "metadata": {},
   "outputs": [],
   "source": [
    "for bins in user_info_with_avg_valence['satisfaction_bins'].unique():\n",
    "    subset = user_info_with_avg_valence[user_info_with_avg_valence['satisfaction_bins'] == bins]\n",
    "    sns.histplot(subset['valence'])\n",
    "    plt.title(f'Valence for users with {bins} satisfaction')\n",
    "    plt.savefig(f'valence_{bins}_satisfaction.png')\n",
    "    plt.show()"
   ]
  },
  {
   "cell_type": "markdown",
   "metadata": {},
   "source": [
    "## Trust"
   ]
  },
  {
   "cell_type": "code",
   "execution_count": null,
   "metadata": {},
   "outputs": [],
   "source": [
    "user_information['trust_bins'] = pd.cut(user_information['Trust 1'], bins=[0, 3, 5, 7], labels=['3 and lower', '4', '5 and higher'])\n",
    "user_info_with_avg_valence = user_information.merge(emotional_events.groupby('userId')['valence'].mean().reset_index(), left_on='id', right_on='userId', how='left')"
   ]
  },
  {
   "cell_type": "code",
   "execution_count": null,
   "metadata": {},
   "outputs": [],
   "source": [
    "for bins in user_info_with_avg_valence['trust_bins'].unique():\n",
    "    subset = user_info_with_avg_valence[user_info_with_avg_valence['trust_bins'] == bins]\n",
    "    sns.histplot(subset['valence'])\n",
    "    plt.title(f'Valence for users with {bins} trust (1)')\n",
    "    plt.savefig(f'valence_for_users_with_{bins}_trust.png')\n",
    "    plt.show()"
   ]
  },
  {
   "cell_type": "markdown",
   "metadata": {},
   "source": [
    "## education"
   ]
  },
  {
   "cell_type": "code",
   "execution_count": null,
   "metadata": {},
   "outputs": [],
   "source": [
    "user_info_with_avg_valence = user_information.merge(emotional_events.groupby('userId')['valence'].mean().reset_index(), left_on='id', right_on='userId', how='left')\n"
   ]
  },
  {
   "cell_type": "code",
   "execution_count": null,
   "metadata": {},
   "outputs": [],
   "source": [
    "for bins in user_info_with_avg_valence['education'].unique():\n",
    "    subset = user_info_with_avg_valence[user_info_with_avg_valence['education'] == bins]\n",
    "    sns.histplot(subset['valence'])\n",
    "    plt.title(f'Valence for users with {bins} education')\n",
    "    plt.savefig(f'Valence for users with {bins} education.png')\n",
    "    plt.show()"
   ]
  },
  {
   "cell_type": "markdown",
   "metadata": {},
   "source": [
    "## Mögliche Ideen\n",
    "- wie wirkt sich der Assistent auf die Nutzer aus, je nach dem ob sie Vorerfahrung mit Datenanalyse haben oder nicht?\n",
    "- "
   ]
  }
 ],
 "metadata": {
  "kernelspec": {
   "display_name": ".venv",
   "language": "python",
   "name": "python3"
  },
  "language_info": {
   "codemirror_mode": {
    "name": "ipython",
    "version": 3
   },
   "file_extension": ".py",
   "mimetype": "text/x-python",
   "name": "python",
   "nbconvert_exporter": "python",
   "pygments_lexer": "ipython3",
   "version": "3.12.3"
  }
 },
 "nbformat": 4,
 "nbformat_minor": 2
}
